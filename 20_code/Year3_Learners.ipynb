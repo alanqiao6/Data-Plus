{
 "cells": [
  {
   "cell_type": "code",
   "execution_count": 1,
   "metadata": {},
   "outputs": [],
   "source": [
    "import pandas as pd"
   ]
  },
  {
   "cell_type": "code",
   "execution_count": 2,
   "metadata": {},
   "outputs": [],
   "source": [
    "# Load datasets\n",
    "Spring2024_LearnerRoster = pd.read_excel(\"Spring2024_LearnerRoster_Scrubbed.xlsx\")\n",
    "Spring2024_LearnerRegistration = pd.read_excel(\n",
    "    \"Spring2024_LearnerRegistration_Scrubbed.xlsx\"\n",
    ")\n",
    "Spring2024_LearnerPreSurveyAll = pd.read_excel(\n",
    "    \"Spring2024_LearnerPreSurveyAll_Scrubbed.xlsx\"\n",
    ")\n",
    "Spring2024_LearnerPostSurveyAll = pd.read_excel(\n",
    "    \"Spring2024_LearnerPostSurveyAll_Scrubbed.xlsx\"\n",
    ")"
   ]
  },
  {
   "cell_type": "code",
   "execution_count": 3,
   "metadata": {},
   "outputs": [
    {
     "name": "stdout",
     "output_type": "stream",
     "text": [
      "(67, 25)\n",
      "(67, 15)\n",
      "(67, 63)\n",
      "(54, 62)\n"
     ]
    }
   ],
   "source": [
    "# Lets see the size of the datasets\n",
    "print(Spring2024_LearnerRoster.shape)\n",
    "print(Spring2024_LearnerRegistration.shape)\n",
    "print(Spring2024_LearnerPreSurveyAll.shape)\n",
    "print(Spring2024_LearnerPostSurveyAll.shape)"
   ]
  },
  {
   "cell_type": "markdown",
   "metadata": {},
   "source": [
    "*We lost some of the students in the PostSurvey (if we compare the 67 vs 54)*"
   ]
  },
  {
   "cell_type": "code",
   "execution_count": 4,
   "metadata": {},
   "outputs": [
    {
     "data": {
      "text/html": [
       "<div>\n",
       "<style scoped>\n",
       "    .dataframe tbody tr th:only-of-type {\n",
       "        vertical-align: middle;\n",
       "    }\n",
       "\n",
       "    .dataframe tbody tr th {\n",
       "        vertical-align: top;\n",
       "    }\n",
       "\n",
       "    .dataframe thead th {\n",
       "        text-align: right;\n",
       "    }\n",
       "</style>\n",
       "<table border=\"1\" class=\"dataframe\">\n",
       "  <thead>\n",
       "    <tr style=\"text-align: right;\">\n",
       "      <th></th>\n",
       "      <th>ID</th>\n",
       "      <th>Full_name</th>\n",
       "      <th>Student First Name</th>\n",
       "      <th>Student Last Name</th>\n",
       "      <th>What pronouns does your student prefer? - Selected Choice</th>\n",
       "      <th>Student Age</th>\n",
       "      <th>Grade level - Selected Choice</th>\n",
       "      <th>How would your student describe their racial identity? Check all that apply - Selected Choice</th>\n",
       "      <th>Student Language Preferences - Selected Choice</th>\n",
       "      <th>School</th>\n",
       "      <th>City</th>\n",
       "      <th>Zip Code</th>\n",
       "      <th>Please select which team your child would like to join for the 8 week program</th>\n",
       "      <th>How did you hear about Ignite? - Selected Choice</th>\n",
       "      <th>Acceptance Letter (Y/N)</th>\n",
       "    </tr>\n",
       "  </thead>\n",
       "  <tbody>\n",
       "    <tr>\n",
       "      <th>0</th>\n",
       "      <td>69</td>\n",
       "      <td>JulietJohnson</td>\n",
       "      <td>Juliet</td>\n",
       "      <td>Johnson</td>\n",
       "      <td>She/her/hers</td>\n",
       "      <td>13</td>\n",
       "      <td>8th</td>\n",
       "      <td>White</td>\n",
       "      <td>English</td>\n",
       "      <td>Non-Durham Public School</td>\n",
       "      <td>Wilmington</td>\n",
       "      <td>28405</td>\n",
       "      <td>Water</td>\n",
       "      <td>Your child is a previous Ignite participant</td>\n",
       "      <td>Y</td>\n",
       "    </tr>\n",
       "    <tr>\n",
       "      <th>1</th>\n",
       "      <td>93</td>\n",
       "      <td>Dylan Miller</td>\n",
       "      <td>Dylan</td>\n",
       "      <td>Miller</td>\n",
       "      <td>he/him/his</td>\n",
       "      <td>13</td>\n",
       "      <td>7th</td>\n",
       "      <td>Black or African American</td>\n",
       "      <td>English</td>\n",
       "      <td>Durham School of the Arts</td>\n",
       "      <td>Durham</td>\n",
       "      <td>27705</td>\n",
       "      <td>Water</td>\n",
       "      <td>Your child is a previous Ignite participant</td>\n",
       "      <td>Y</td>\n",
       "    </tr>\n",
       "    <tr>\n",
       "      <th>2</th>\n",
       "      <td>100</td>\n",
       "      <td>Clark Songondo</td>\n",
       "      <td>Clark</td>\n",
       "      <td>Songondo</td>\n",
       "      <td>he/him/his</td>\n",
       "      <td>12</td>\n",
       "      <td>7th</td>\n",
       "      <td>Black or African American</td>\n",
       "      <td>English</td>\n",
       "      <td>Lowe's Grove</td>\n",
       "      <td>Durham</td>\n",
       "      <td>27713</td>\n",
       "      <td>Water</td>\n",
       "      <td>Your child is a previous Ignite participant</td>\n",
       "      <td>Y</td>\n",
       "    </tr>\n",
       "  </tbody>\n",
       "</table>\n",
       "</div>"
      ],
      "text/plain": [
       "    ID       Full_name Student First Name Student Last Name  \\\n",
       "0   69   JulietJohnson             Juliet           Johnson   \n",
       "1   93    Dylan Miller             Dylan             Miller   \n",
       "2  100  Clark Songondo             Clark           Songondo   \n",
       "\n",
       "  What pronouns does your student prefer? - Selected Choice  Student Age  \\\n",
       "0                                       She/her/hers                  13   \n",
       "1                                         he/him/his                  13   \n",
       "2                                         he/him/his                  12   \n",
       "\n",
       "  Grade level - Selected Choice  \\\n",
       "0                           8th   \n",
       "1                           7th   \n",
       "2                           7th   \n",
       "\n",
       "  How would your student describe their racial identity? Check all that apply - Selected Choice  \\\n",
       "0                                              White                                              \n",
       "1                          Black or African American                                              \n",
       "2                          Black or African American                                              \n",
       "\n",
       "  Student Language Preferences - Selected Choice                    School   \\\n",
       "0                                        English   Non-Durham Public School   \n",
       "1                                        English  Durham School of the Arts   \n",
       "2                                        English               Lowe's Grove   \n",
       "\n",
       "         City  Zip Code  \\\n",
       "0  Wilmington     28405   \n",
       "1      Durham     27705   \n",
       "2      Durham     27713   \n",
       "\n",
       "  Please select which team your child would like to join for the 8 week program  \\\n",
       "0                                              Water                              \n",
       "1                                              Water                              \n",
       "2                                              Water                              \n",
       "\n",
       "  How did you hear about Ignite? - Selected Choice Acceptance Letter (Y/N)  \n",
       "0      Your child is a previous Ignite participant                       Y  \n",
       "1      Your child is a previous Ignite participant                       Y  \n",
       "2      Your child is a previous Ignite participant                       Y  "
      ]
     },
     "execution_count": 4,
     "metadata": {},
     "output_type": "execute_result"
    }
   ],
   "source": [
    "Spring2024_LearnerRegistration.head(3)"
   ]
  },
  {
   "cell_type": "code",
   "execution_count": 5,
   "metadata": {},
   "outputs": [
    {
     "name": "stdout",
     "output_type": "stream",
     "text": [
      "LearnerRegistration:  (67, 15)\n",
      "LearnerRoster:  (67, 25)\n",
      "LearnerRegistration_merged:  (67, 39)\n"
     ]
    }
   ],
   "source": [
    "# Merge LearnerRegistration with LearnerRoster\n",
    "LearnerRegistration_merged = pd.merge(\n",
    "    Spring2024_LearnerRegistration, Spring2024_LearnerRoster, on=\"ID\", how=\"left\"\n",
    ")\n",
    "\n",
    "# Check the size of the original datasets\n",
    "print(\"LearnerRegistration: \", Spring2024_LearnerRegistration.shape)\n",
    "print(\"LearnerRoster: \", Spring2024_LearnerRoster.shape)\n",
    "\n",
    "# Check the size of the merged dataset\n",
    "print(\"LearnerRegistration_merged: \", LearnerRegistration_merged.shape)"
   ]
  },
  {
   "cell_type": "code",
   "execution_count": 6,
   "metadata": {},
   "outputs": [
    {
     "data": {
      "text/html": [
       "<div>\n",
       "<style scoped>\n",
       "    .dataframe tbody tr th:only-of-type {\n",
       "        vertical-align: middle;\n",
       "    }\n",
       "\n",
       "    .dataframe tbody tr th {\n",
       "        vertical-align: top;\n",
       "    }\n",
       "\n",
       "    .dataframe thead th {\n",
       "        text-align: right;\n",
       "    }\n",
       "</style>\n",
       "<table border=\"1\" class=\"dataframe\">\n",
       "  <thead>\n",
       "    <tr style=\"text-align: right;\">\n",
       "      <th></th>\n",
       "      <th>ID</th>\n",
       "      <th>Full_name_x</th>\n",
       "      <th>Student First Name</th>\n",
       "      <th>Student Last Name</th>\n",
       "      <th>What pronouns does your student prefer? - Selected Choice</th>\n",
       "      <th>Student Age</th>\n",
       "      <th>Grade level - Selected Choice</th>\n",
       "      <th>How would your student describe their racial identity? Check all that apply - Selected Choice</th>\n",
       "      <th>Student Language Preferences - Selected Choice</th>\n",
       "      <th>School</th>\n",
       "      <th>...</th>\n",
       "      <th>Wk 7</th>\n",
       "      <th>Wk 8</th>\n",
       "      <th>Post- Survey</th>\n",
       "      <th>Poster: Conceptual</th>\n",
       "      <th>Poster: Functionality</th>\n",
       "      <th>Poster: Aesthetic</th>\n",
       "      <th>Poster: Testing</th>\n",
       "      <th>Poster:Community</th>\n",
       "      <th>Poster: Poster</th>\n",
       "      <th>Rubric total</th>\n",
       "    </tr>\n",
       "  </thead>\n",
       "  <tbody>\n",
       "    <tr>\n",
       "      <th>0</th>\n",
       "      <td>69</td>\n",
       "      <td>JulietJohnson</td>\n",
       "      <td>Juliet</td>\n",
       "      <td>Johnson</td>\n",
       "      <td>She/her/hers</td>\n",
       "      <td>13</td>\n",
       "      <td>8th</td>\n",
       "      <td>White</td>\n",
       "      <td>English</td>\n",
       "      <td>Non-Durham Public School</td>\n",
       "      <td>...</td>\n",
       "      <td>x</td>\n",
       "      <td>x</td>\n",
       "      <td>x</td>\n",
       "      <td>10</td>\n",
       "      <td>10</td>\n",
       "      <td>5</td>\n",
       "      <td>10</td>\n",
       "      <td>10</td>\n",
       "      <td>10</td>\n",
       "      <td>55.0</td>\n",
       "    </tr>\n",
       "    <tr>\n",
       "      <th>1</th>\n",
       "      <td>93</td>\n",
       "      <td>Dylan Miller</td>\n",
       "      <td>Dylan</td>\n",
       "      <td>Miller</td>\n",
       "      <td>he/him/his</td>\n",
       "      <td>13</td>\n",
       "      <td>7th</td>\n",
       "      <td>Black or African American</td>\n",
       "      <td>English</td>\n",
       "      <td>Durham School of the Arts</td>\n",
       "      <td>...</td>\n",
       "      <td>x</td>\n",
       "      <td>x</td>\n",
       "      <td>x</td>\n",
       "      <td>10</td>\n",
       "      <td>5</td>\n",
       "      <td>0</td>\n",
       "      <td>10</td>\n",
       "      <td>10</td>\n",
       "      <td>10</td>\n",
       "      <td>45.0</td>\n",
       "    </tr>\n",
       "    <tr>\n",
       "      <th>2</th>\n",
       "      <td>100</td>\n",
       "      <td>Clark Songondo</td>\n",
       "      <td>Clark</td>\n",
       "      <td>Songondo</td>\n",
       "      <td>he/him/his</td>\n",
       "      <td>12</td>\n",
       "      <td>7th</td>\n",
       "      <td>Black or African American</td>\n",
       "      <td>English</td>\n",
       "      <td>Lowe's Grove</td>\n",
       "      <td>...</td>\n",
       "      <td>NaN</td>\n",
       "      <td>NaN</td>\n",
       "      <td>NaN</td>\n",
       "      <td>NaN</td>\n",
       "      <td>NaN</td>\n",
       "      <td>NaN</td>\n",
       "      <td>NaN</td>\n",
       "      <td>NaN</td>\n",
       "      <td>NaN</td>\n",
       "      <td>NaN</td>\n",
       "    </tr>\n",
       "  </tbody>\n",
       "</table>\n",
       "<p>3 rows × 39 columns</p>\n",
       "</div>"
      ],
      "text/plain": [
       "    ID     Full_name_x Student First Name Student Last Name  \\\n",
       "0   69   JulietJohnson             Juliet           Johnson   \n",
       "1   93    Dylan Miller             Dylan             Miller   \n",
       "2  100  Clark Songondo             Clark           Songondo   \n",
       "\n",
       "  What pronouns does your student prefer? - Selected Choice  Student Age  \\\n",
       "0                                       She/her/hers                  13   \n",
       "1                                         he/him/his                  13   \n",
       "2                                         he/him/his                  12   \n",
       "\n",
       "  Grade level - Selected Choice  \\\n",
       "0                           8th   \n",
       "1                           7th   \n",
       "2                           7th   \n",
       "\n",
       "  How would your student describe their racial identity? Check all that apply - Selected Choice  \\\n",
       "0                                              White                                              \n",
       "1                          Black or African American                                              \n",
       "2                          Black or African American                                              \n",
       "\n",
       "  Student Language Preferences - Selected Choice                    School   \\\n",
       "0                                        English   Non-Durham Public School   \n",
       "1                                        English  Durham School of the Arts   \n",
       "2                                        English               Lowe's Grove   \n",
       "\n",
       "   ... Wk 7  Wk 8 Post- Survey Poster: Conceptual Poster: Functionality  \\\n",
       "0  ...    x     x            x                 10                    10   \n",
       "1  ...    x     x            x                 10                     5   \n",
       "2  ...  NaN   NaN          NaN                NaN                   NaN   \n",
       "\n",
       "  Poster: Aesthetic Poster: Testing Poster:Community Poster: Poster  \\\n",
       "0                 5              10               10             10   \n",
       "1                 0              10               10             10   \n",
       "2               NaN             NaN              NaN            NaN   \n",
       "\n",
       "  Rubric total  \n",
       "0         55.0  \n",
       "1         45.0  \n",
       "2          NaN  \n",
       "\n",
       "[3 rows x 39 columns]"
      ]
     },
     "execution_count": 6,
     "metadata": {},
     "output_type": "execute_result"
    }
   ],
   "source": [
    "LearnerRegistration_merged.head(3)"
   ]
  },
  {
   "cell_type": "code",
   "execution_count": 7,
   "metadata": {},
   "outputs": [
    {
     "name": "stdout",
     "output_type": "stream",
     "text": [
      "LearnerRegistration_merged:  (67, 39)\n",
      "LearnerPreSurvey:  (67, 63)\n",
      "LearnerRegistration_merged:  (67, 101)\n"
     ]
    }
   ],
   "source": [
    "# Check the size of the original datasets\n",
    "print(\"LearnerRegistration_merged: \", LearnerRegistration_merged.shape)\n",
    "print(\"LearnerPreSurvey: \", Spring2024_LearnerPreSurveyAll.shape)\n",
    "\n",
    "# Merge LearnerRegistration_merged with LearnerPreSurvey, right on Participant\n",
    "LearnerRegistration_merged = pd.merge(\n",
    "    LearnerRegistration_merged, Spring2024_LearnerPreSurveyAll, on=\"ID\", how=\"left\"\n",
    ")\n",
    "\n",
    "# Size after the merge\n",
    "print(\"LearnerRegistration_merged: \", LearnerRegistration_merged.shape)"
   ]
  },
  {
   "cell_type": "code",
   "execution_count": 8,
   "metadata": {},
   "outputs": [
    {
     "data": {
      "text/plain": [
       "(54, 62)"
      ]
     },
     "execution_count": 8,
     "metadata": {},
     "output_type": "execute_result"
    }
   ],
   "source": [
    "Spring2024_LearnerPostSurveyAll.shape"
   ]
  },
  {
   "cell_type": "code",
   "execution_count": 9,
   "metadata": {},
   "outputs": [
    {
     "name": "stdout",
     "output_type": "stream",
     "text": [
      "LearnerRegistration_merged:  (67, 101)\n",
      "LearnerPostSurvey:  (54, 62)\n",
      "LearnerRegistration_merged:  (67, 162)\n"
     ]
    }
   ],
   "source": [
    "# Check the size of the original datasets\n",
    "print(\"LearnerRegistration_merged: \", LearnerRegistration_merged.shape)\n",
    "print(\"LearnerPostSurvey: \", Spring2024_LearnerPostSurveyAll.shape)\n",
    "\n",
    "# Merge LearnerRegistration_merged with LearnerPostSurvey, right on Participant\n",
    "LearnerRegistration_merged = pd.merge(\n",
    "    LearnerRegistration_merged,\n",
    "    Spring2024_LearnerPostSurveyAll,\n",
    "    on=\"ID\",\n",
    "    how=\"left\",\n",
    "    suffixes=(\"_left\", \"_right\"),\n",
    ")\n",
    "\n",
    "# Size after the merge\n",
    "print(\"LearnerRegistration_merged: \", LearnerRegistration_merged.shape)"
   ]
  },
  {
   "cell_type": "code",
   "execution_count": 10,
   "metadata": {},
   "outputs": [],
   "source": [
    "# Download the merged dataset to a csv file\n",
    "LearnerRegistration_merged.to_csv(\"LearnerRegistration_Year3_2024.csv\", index=False)"
   ]
  },
  {
   "cell_type": "code",
   "execution_count": null,
   "metadata": {},
   "outputs": [],
   "source": []
  }
 ],
 "metadata": {
  "kernelspec": {
   "display_name": "base",
   "language": "python",
   "name": "python3"
  },
  "language_info": {
   "codemirror_mode": {
    "name": "ipython",
    "version": 3
   },
   "file_extension": ".py",
   "mimetype": "text/x-python",
   "name": "python",
   "nbconvert_exporter": "python",
   "pygments_lexer": "ipython3",
   "version": "3.11.5"
  }
 },
 "nbformat": 4,
 "nbformat_minor": 2
}
