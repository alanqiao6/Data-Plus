{
 "cells": [
  {
   "cell_type": "code",
   "execution_count": 1,
   "metadata": {},
   "outputs": [],
   "source": [
    "import pandas as pd"
   ]
  },
  {
   "cell_type": "code",
   "execution_count": 2,
   "metadata": {},
   "outputs": [],
   "source": [
    "# Load the datasets\n",
    "Fall2023Spring2024_MakerApplication = pd.read_excel(\n",
    "    \"Fall2023Spring2024_MakerApplication_Scrubbed.xlsx\"\n",
    ")\n",
    "Fall2023Spring2024_MakerPostSurvey = pd.read_excel(\n",
    "    \"Fall2023Spring2024_MakerPostSurvey_Scrubbed.xlsx\"\n",
    ")\n",
    "Fall2023Spring2024_MakerPreSurvey = pd.read_excel(\n",
    "    \"Fall2023Spring2024_MakerPreSurvey_Scrubbed.xlsx\"\n",
    ")"
   ]
  },
  {
   "cell_type": "code",
   "execution_count": 3,
   "metadata": {},
   "outputs": [
    {
     "name": "stdout",
     "output_type": "stream",
     "text": [
      "(20, 20)\n",
      "(17, 67)\n",
      "(20, 59)\n"
     ]
    }
   ],
   "source": [
    "# Lets see the size of the datasets\n",
    "print(Fall2023Spring2024_MakerApplication.shape)\n",
    "print(Fall2023Spring2024_MakerPostSurvey.shape)\n",
    "print(Fall2023Spring2024_MakerPreSurvey.shape)"
   ]
  },
  {
   "cell_type": "code",
   "execution_count": 4,
   "metadata": {},
   "outputs": [],
   "source": [
    "# Merge MakerApplication2023 with MakerPreSurvey2024\n",
    "MakerApplicationALL_2023 = pd.merge(\n",
    "    Fall2023Spring2024_MakerApplication,\n",
    "    Fall2023Spring2024_MakerPreSurvey,\n",
    "    on=\"ID\",\n",
    "    how=\"left\",\n",
    ")"
   ]
  },
  {
   "cell_type": "code",
   "execution_count": 5,
   "metadata": {},
   "outputs": [
    {
     "name": "stdout",
     "output_type": "stream",
     "text": [
      "(20, 78)\n"
     ]
    }
   ],
   "source": [
    "# Check the size of the merged dataset\n",
    "print(MakerApplicationALL_2023.shape)"
   ]
  },
  {
   "cell_type": "code",
   "execution_count": 6,
   "metadata": {},
   "outputs": [],
   "source": [
    "# Merge MakerApplicationALL_2023 with MakerPostSurvey2022\n",
    "MakerApplicationALL_2023 = pd.merge(\n",
    "    MakerApplicationALL_2023, Fall2023Spring2024_MakerPostSurvey, on=\"ID\", how=\"left\"\n",
    ")"
   ]
  },
  {
   "cell_type": "code",
   "execution_count": 8,
   "metadata": {},
   "outputs": [
    {
     "name": "stdout",
     "output_type": "stream",
     "text": [
      "(20, 144)\n"
     ]
    }
   ],
   "source": [
    "# Check the size of the merged dataset\n",
    "print(MakerApplicationALL_2023.shape)"
   ]
  },
  {
   "cell_type": "code",
   "execution_count": 7,
   "metadata": {},
   "outputs": [],
   "source": [
    "# Save the merged dataset as a csv file\n",
    "MakerApplicationALL_2023.to_csv(\"MakerApplicationALL_2023.csv\", index=False)"
   ]
  },
  {
   "cell_type": "code",
   "execution_count": null,
   "metadata": {},
   "outputs": [],
   "source": []
  },
  {
   "cell_type": "code",
   "execution_count": null,
   "metadata": {},
   "outputs": [],
   "source": []
  },
  {
   "cell_type": "code",
   "execution_count": null,
   "metadata": {},
   "outputs": [],
   "source": []
  },
  {
   "cell_type": "code",
   "execution_count": null,
   "metadata": {},
   "outputs": [],
   "source": []
  }
 ],
 "metadata": {
  "kernelspec": {
   "display_name": "base",
   "language": "python",
   "name": "python3"
  },
  "language_info": {
   "codemirror_mode": {
    "name": "ipython",
    "version": 3
   },
   "file_extension": ".py",
   "mimetype": "text/x-python",
   "name": "python",
   "nbconvert_exporter": "python",
   "pygments_lexer": "ipython3",
   "version": "3.11.5"
  }
 },
 "nbformat": 4,
 "nbformat_minor": 2
}
